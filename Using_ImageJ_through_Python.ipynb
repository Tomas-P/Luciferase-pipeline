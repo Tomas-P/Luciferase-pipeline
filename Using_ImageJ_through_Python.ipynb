{
 "cells": [
  {
   "cell_type": "markdown",
   "metadata": {},
   "source": [
    "Important Note: using the str.format() method with the {} syntax is somewhat incompatible with writing ImageJ macros. However, the older %s % var syntax is entirely compatible with writing ImageJ macros because the %s syntax has no special meaning in ImageJ macros, unlike the curly braces."
   ]
  },
  {
   "cell_type": "markdown",
   "metadata": {},
   "source": [
    "This means that it may be possible to use tkinter or a similar module to create a UI that is straightforward and simple to use"
   ]
  },
  {
   "cell_type": "code",
   "execution_count": 18,
   "metadata": {
    "collapsed": true
   },
   "outputs": [],
   "source": [
    "import tkinter.filedialog as filedialog\n",
    "import glob\n",
    "import subprocess\n",
    "from time import sleep\n",
    "from multiprocessing import Process # this probably is not nessesary\n",
    "import os\n",
    "from PIL import Image"
   ]
  },
  {
   "cell_type": "code",
   "execution_count": 2,
   "metadata": {
    "collapsed": true
   },
   "outputs": [],
   "source": [
    "def Process_folder_for_analysis(foldername = None):\n",
    "    if foldername == None:\n",
    "        foldername = filedialog.askdirectory()\n",
    "    folder = ''\n",
    "    for char in foldername:\n",
    "        if char == '/':\n",
    "            # backslash is an escape character and escapes itself, so quadruple backslash is required to store two backslashes\n",
    "            folder += '\\\\\\\\'\n",
    "        else:\n",
    "            folder += char\n",
    "    print(folder)\n",
    "    # Dear future self,\n",
    "    # The reason past you used the older %s\n",
    "    # string formatting syntax instead of str.format()\n",
    "    # was because im ImageJ macros, curly braces are \n",
    "    # used and have special meanings\n",
    "    # %s does not have a special meaning or use in ImageJ\n",
    "    # macros, which is why you used it instead\n",
    "    text = '''runMacro(\"Folder_to_stack.ijm\");\n",
    "run(\"Image Sequence... \", \"format=TIFF name=eXperiment save=%s\\\\eXperiment0000.tif\");''' % folder\n",
    "    \n",
    "    with open('C:/Users/Tomas/Desktop/Fiji.app/macros/FolderToFolder.ijm', 'w') as folder_to_folder:\n",
    "        folder_to_folder.write(text)\n",
    "    # preprocess.bat starts ImageJ and runs the macro for us\n",
    "    # this avoids having to type out the file locations again\n",
    "    !preprocess.bat\n",
    "    \n",
    "    return None"
   ]
  },
  {
   "cell_type": "markdown",
   "metadata": {},
   "source": [
    "The next step is to apply an existing weka model to the dataset. However, weka's use of most of my RAM\n",
    "compels me to seek a method to apply the model to an image, save the result and close the image, then open the\n",
    "next image and continue until all images have been processed."
   ]
  },
  {
   "cell_type": "code",
   "execution_count": 3,
   "metadata": {
    "collapsed": true
   },
   "outputs": [],
   "source": [
    "import glob # used to search through the filesystem\n",
    "def list_files(folder=None):\n",
    "    if folder == None:\n",
    "        folder = filedialog.askdirectory()\n",
    "    folderstring = ''\n",
    "    # glob.glob and tkinter.filedialog don't agree, so this is needed\n",
    "    for char in folder:\n",
    "        # either / or \\ is fine, but I would rather only use one.\n",
    "        # four \\ are used because \\ is an escape character and I need to end with four \\ in the final string dammit\n",
    "        if char == '/':\n",
    "            folderstring = '{0}{1}'.format(folderstring, '\\\\\\\\') \n",
    "        else:\n",
    "            folderstring = '{0}{1}'.format(folderstring, char)\n",
    "    \n",
    "    folder = folderstring \n",
    "    files = glob.glob('{0}/*'.format(folder))\n",
    "    fixed_filenames = []\n",
    "    for file in files:\n",
    "        loc = file.rfind('\\\\') + 1 # +1 for indexing\n",
    "        fixed_filenames.append(file[0:loc-1]+'\\\\\\\\'+file[loc:])\n",
    "    return fixed_filenames"
   ]
  },
  {
   "cell_type": "code",
   "execution_count": 4,
   "metadata": {
    "collapsed": true
   },
   "outputs": [],
   "source": [
    "#list_files()"
   ]
  },
  {
   "cell_type": "code",
   "execution_count": 5,
   "metadata": {
    "collapsed": true
   },
   "outputs": [],
   "source": [
    "def weka_macro_input_image(input_name=None):\n",
    "    \n",
    "    if input_name == None:\n",
    "        \n",
    "        input_name = filedialog.askopenfilename()\n",
    "    \n",
    "    input_file = input_name.split('/')[-1]\n",
    "    \n",
    "    input_path = ''\n",
    "    \n",
    "    for part in input_name.split('/')[:-1]:\n",
    "        \n",
    "        input_path = '{0}{1}{2}'.format(input_path, part, '\\\\\\\\')\n",
    "    \n",
    "    return input_path, input_file"
   ]
  },
  {
   "cell_type": "code",
   "execution_count": 6,
   "metadata": {
    "collapsed": true
   },
   "outputs": [],
   "source": [
    "#weka_macro_input_image()"
   ]
  },
  {
   "cell_type": "code",
   "execution_count": 7,
   "metadata": {
    "collapsed": true
   },
   "outputs": [],
   "source": [
    "def weka_macro_output_image(output_name=None):\n",
    "    if output_name == None:\n",
    "        output_name = filedialog.asksaveasfilename()\n",
    "    filename = ''\n",
    "    for char in output_name:\n",
    "        if char == '/':\n",
    "            filename += '\\\\\\\\'\n",
    "        else:\n",
    "            filename += char\n",
    "    path_pieces = [piece for piece in filename.split('\\\\\\\\')[:-1]]\n",
    "    path = ''\n",
    "    for part in path_pieces:\n",
    "        path = '{0}\\\\\\\\{1}'.format(path, part)\n",
    "    path = path[2:]\n",
    "    name = filename.split('\\\\\\\\')[-1]\n",
    "    return filename, path, name"
   ]
  },
  {
   "cell_type": "code",
   "execution_count": 8,
   "metadata": {
    "collapsed": true
   },
   "outputs": [],
   "source": [
    "#weka_macro_output_image()"
   ]
  },
  {
   "cell_type": "code",
   "execution_count": 9,
   "metadata": {
    "collapsed": true
   },
   "outputs": [],
   "source": [
    "def write_macro_text(input_path, input_name, output_path, output_name):\n",
    "    macro_text = '''open(\"{0}\\\\\\\\{1}\");\n",
    "//setTool(\"freeline\");\n",
    "run(\"Trainable Weka Segmentation\");\n",
    "wait(3000);\n",
    "selectWindow(\"Trainable Weka Segmentation v3.2.14\");\n",
    "call(\"trainableSegmentation.Weka_Segmentation.loadClassifier\", \"C:\\\\\\\\Users\\\\\\\\Tomas\\\\\\\\Desktop\\\\\\\\Fiji.app\\\\\\\\macros\\\\\\\\Setaria_classifier_good_enough.model\");\n",
    "call(\"trainableSegmentation.Weka_Segmentation.applyClassifier\", \"{0}\", \"{1}\", \"showResults=true\", \"storeResults=false\", \"probabilityMaps=false\", \"\");\n",
    "selectWindow(\"Classification result\");\n",
    "saveAs(\"Tiff\", \"{2}\\\\\\\\{3}\");\n",
    "'''.format(input_path, input_name, output_path, output_name)\n",
    "    return macro_text"
   ]
  },
  {
   "cell_type": "code",
   "execution_count": 10,
   "metadata": {
    "collapsed": true
   },
   "outputs": [],
   "source": [
    "#print(write_macro_text('C:\\\\\\\\Users\\\\\\\\Tomas\\\\\\\\Desktop\\\\\\\\eclipse', 'this.jpg', 'C:\\\\\\\\Documents', 'that.jpg'))"
   ]
  },
  {
   "cell_type": "code",
   "execution_count": 11,
   "metadata": {
    "collapsed": true
   },
   "outputs": [],
   "source": [
    "def weka_macro_all_images():\n",
    "    files = list_files()\n",
    "    \n",
    "    macros = []\n",
    "    \n",
    "    for file in files:\n",
    "        input_info = weka_macro_input_image(file)\n",
    "        output_info = weka_macro_output_image(input_info[0]+input_info[1][:-4]+'_ROI.tif')\n",
    "        macro_text = write_macro_text(input_info[0], input_info[1], output_info[1], output_info[2])\n",
    "        macros.append(macro_text)\n",
    "    \n",
    "    return macros"
   ]
  },
  {
   "cell_type": "code",
   "execution_count": 12,
   "metadata": {
    "collapsed": true
   },
   "outputs": [],
   "source": [
    "def run_macro(macro_save_name):\n",
    "    subprocess.run('C:/Users/Tomas/Desktop/Fiji.app/ImageJ-win64.exe -macro {0} & DEL C:/Users/Tomas/Desktop/Fiji.app/macros/weka_ROI_finding.ijm'.format(macro_save_name))"
   ]
  },
  {
   "cell_type": "code",
   "execution_count": 13,
   "metadata": {
    "collapsed": true
   },
   "outputs": [],
   "source": [
    "def weka_image_macros():\n",
    "    weka_macros = weka_macro_all_images()\n",
    "    # easier to have a string then asking the user for a macro name every time\n",
    "    macro_save_name = 'C:/Users/Tomas/Desktop/Fiji.app/macros/weka_ROI_finding.ijm'\n",
    "    \n",
    "    for weka in weka_macros:        \n",
    "        with open(macro_save_name, 'w') as weka_macro:\n",
    "            weka_macro.write(weka)\n",
    "        \n",
    "        run_macro(macro_save_name)\n",
    "            \n",
    "def one_macro():\n",
    "    weka_macros = weka_macro_all_images()\n",
    "    first_macro = weka_macros[0]\n",
    "    print(first_macro)\n",
    "    \n",
    "    macro_save_name = 'C:/Users/Tomas/Desktop/Fiji.app/macros/weka_ROI_finding.ijm'\n",
    "    \n",
    "    with open(macro_save_name, 'w') as weka_macro:  \n",
    "        weka_macro.write(first_macro)\n",
    "    \n",
    "    run_macro(macro_save_name)"
   ]
  },
  {
   "cell_type": "code",
   "execution_count": 14,
   "metadata": {
    "collapsed": true
   },
   "outputs": [],
   "source": [
    "#weka_image_macros()"
   ]
  },
  {
   "cell_type": "code",
   "execution_count": 15,
   "metadata": {},
   "outputs": [
    {
     "name": "stdout",
     "output_type": "stream",
     "text": [
      "\n"
     ]
    }
   ],
   "source": [
    "#move the ROI images to a separate folder\n",
    "def mover():\n",
    "    folder = filedialog.askdirectory()\n",
    "    files = glob.glob(folder + '/*_ROI.tif')\n",
    "    # getting the directory to place the files, and fixing the \\ vs / issue\n",
    "    dest = filedialog.askdirectory()\n",
    "    dest = dest.replace('/', '\\\\')\n",
    "    print(dest)\n",
    "    for file in files:\n",
    "    \n",
    "        # dealing with glob.glob()'s insistence to use a \\, as usual\n",
    "        fileparts = file.split('\\\\') \n",
    "        name = fileparts[0]+'/'+fileparts[1]\n",
    "        name = name.replace('/', '\\\\')\n",
    "    \n",
    "        runstring = 'MOVE {0} {1}'.format(name, dest)\n",
    "    \n",
    "        with open('movefile.bat', 'w') as mover:\n",
    "            mover.write(runstring)\n",
    "    \n",
    "        !movefile.bat\n",
    "        !DEL movefile.bat"
   ]
  },
  {
   "cell_type": "code",
   "execution_count": 16,
   "metadata": {
    "collapsed": true
   },
   "outputs": [],
   "source": [
    "# converting the ROI images to black and white\n",
    "# this can be skipped, but some ImageJ plugins require a black and white image\n",
    "\n",
    "from PIL import Image\n",
    "\n",
    "def roi_image_names(foldername=None):\n",
    "    if foldername == None:\n",
    "        foldername = filedialog.askdirectory()\n",
    "    \n",
    "    files = glob.glob(foldername+'/*')\n",
    "    images = []\n",
    "    for i in range(len(files)):\n",
    "        files[i] = files[i].replace('\\\\', '/')\n",
    "    \n",
    "    return files\n",
    "\n",
    "def open_from_names(names):\n",
    "    images = []\n",
    "    for name in names:\n",
    "        images.append(Image.open(name))\n",
    "    \n",
    "    return images\n",
    "\n",
    "def convert_images_to_black_and_white(images):\n",
    "    # binary is another term used for black and white images\n",
    "    black_and_whites = []\n",
    "    for image in images:\n",
    "        # I turned dithering off because I think it has less noise than dithering\n",
    "        img = image.convert('1', dither=Image.NONE)\n",
    "        black_and_whites.append(img)\n",
    "    \n",
    "    return black_and_whites\n",
    "\n",
    "# test case\n",
    "# no longer needed\n",
    "\n",
    "#names = roi_image_names()\n",
    "#images = open_from_names(names)\n",
    "#black_and_whites = convert_images_to_black_and_white(images)"
   ]
  },
  {
   "cell_type": "markdown",
   "metadata": {
    "collapsed": true
   },
   "source": [
    "<b> Next steps </b> \n",
    "\n",
    "What I want to do now is figure out:\n",
    "\n",
    "1. what to measure?\n",
    "    * of the measurements, which ones can be found from the segmentation?\n",
    "2. How to measure?\n",
    "    * how should I go about the specifics of measuring ROIs?\n",
    "3. Can I integrate the ROIs as a mask on the original grayscale image?\n",
    "    * Will this help to filder out noise?\n",
    "    * Can this be used to aquire measurements that wouldn't be obtainable otherwise?\n",
    "4. Can I filter ROI sizes to reduce false positives?\n",
    "\n",
    "If I can answer these questions, I will be able to quantify luciferase images effectively.\n",
    "\n",
    "    "
   ]
  },
  {
   "cell_type": "code",
   "execution_count": 14,
   "metadata": {
    "collapsed": true
   },
   "outputs": [],
   "source": [
    "def save_images(image_list, name_base, destination_folder='C:/Users/Tomas/Desktop/bins/'):\n",
    "    for i in range(len(image_list)):\n",
    "        image_list[i].save('{0}{1}_{2}.tif'.format(destination_folder, name_base, i))\n",
    "\n",
    "#save_images(black_and_whites, 'binaryROI')"
   ]
  },
  {
   "cell_type": "code",
   "execution_count": 6,
   "metadata": {
    "collapsed": true
   },
   "outputs": [],
   "source": [
    "from PIL import Image\n",
    "import PIL.ImageOps\n",
    "\n",
    "def invert_image(imagename):\n",
    "    # inverts an image\n",
    "    image = Image.open(imagename)\n",
    "    image = image.convert('L')\n",
    "    inverted_image = PIL.ImageOps.invert(image)\n",
    "    return inverted_image\n",
    "\n",
    "img = invert_image('C:/Users/Tomas/Desktop/bins/binaryROI_0.tif')\n",
    "img.show()"
   ]
  },
  {
   "cell_type": "code",
   "execution_count": 87,
   "metadata": {
    "collapsed": true
   },
   "outputs": [],
   "source": [
    "def convert_to_array(images_folder='C:/Users/Tomas/Desktop/TimeLabColleen/Luciferase/throw_away_for_inverted_binary_images/', image_num=0):\n",
    "    from skimage.io import imread\n",
    "    bins = glob.glob(image_folder + '*')\n",
    "    nbins = [b.replace('\\\\', '/') for b in bins]\n",
    "    example = nbins[image_num]\n",
    "    im_ex = imread(example)\n",
    "    return im_ex"
   ]
  }
 ],
 "metadata": {
  "kernelspec": {
   "display_name": "Python 3",
   "language": "python",
   "name": "python3"
  },
  "language_info": {
   "codemirror_mode": {
    "name": "ipython",
    "version": 3
   },
   "file_extension": ".py",
   "mimetype": "text/x-python",
   "name": "python",
   "nbconvert_exporter": "python",
   "pygments_lexer": "ipython3",
   "version": "3.6.2"
  }
 },
 "nbformat": 4,
 "nbformat_minor": 2
}
